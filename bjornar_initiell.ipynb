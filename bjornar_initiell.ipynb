{
 "cells": [
  {
   "cell_type": "code",
   "execution_count": null,
   "metadata": {},
   "outputs": [],
   "source": [
    "# !jupyter nbconvert --to script \"initiell.ipynb\""
   ]
  },
  {
   "cell_type": "code",
   "execution_count": 1,
   "metadata": {},
   "outputs": [
    {
     "name": "stderr",
     "output_type": "stream",
     "text": [
      "/miniconda3/envs/tid37/lib/python3.7/site-packages/sklearn/externals/six.py:31: DeprecationWarning: The module is deprecated in version 0.21 and will be removed in version 0.23 since we've dropped support for Python 2.7. Please rely on the official version of six (https://pypi.org/project/six/).\n",
      "  \"(https://pypi.org/project/six/).\", DeprecationWarning)\n",
      "/miniconda3/envs/tid37/lib/python3.7/site-packages/sklearn/externals/joblib/__init__.py:15: DeprecationWarning: sklearn.externals.joblib is deprecated in 0.21 and will be removed in 0.23. Please import this functionality directly from joblib, which can be installed with: pip install joblib. If this warning is raised when loading pickled models, you may need to re-serialize those models with scikit-learn 0.21+.\n",
      "  warnings.warn(msg, category=DeprecationWarning)\n",
      "/miniconda3/envs/tid37/lib/python3.7/site-packages/tqdm/autonotebook/__init__.py:18: TqdmExperimentalWarning: Using `tqdm.autonotebook.tqdm` in notebook mode. Use `tqdm.tqdm` instead to force console mode (e.g. in jupyter console)\n",
      "  \" (e.g. in jupyter console)\", TqdmExperimentalWarning)\n"
     ]
    }
   ],
   "source": [
    "import datetime as dt\n",
    "import warnings\n",
    "from datetime import datetime, timedelta\n",
    "from math import sqrt\n",
    "from time import sleep\n",
    "\n",
    "import hdbscan\n",
    "import matplotlib.pyplot as plt\n",
    "import numpy as np\n",
    "import pandas as pd\n",
    "import xgboost as xgb\n",
    "from IPython.core.interactiveshell import InteractiveShell\n",
    "from pandas import DataFrame, Series\n",
    "from shapely.geometry import Point, Polygon\n",
    "from sklearn.base import BaseEstimator, TransformerMixin\n",
    "from sklearn.linear_model import Lasso\n",
    "from sklearn.metrics import mean_squared_error\n",
    "from sklearn.model_selection import (GridSearchCV, KFold, RandomizedSearchCV,\n",
    "                                     StratifiedKFold, cross_val_score,\n",
    "                                     train_test_split)\n",
    "from sklearn.pipeline import Pipeline, make_pipeline, FeatureUnion\n",
    "from sklearn.preprocessing import MinMaxScaler\n",
    "from xgboost import XGBRegressor\n",
    "\n",
    "import mplleaflet\n",
    "import shap\n",
    "\n",
    "warnings.simplefilter(action='ignore', category=FutureWarning)\n",
    "\n",
    "InteractiveShell.ast_node_interactivity = \"all\"\n"
   ]
  },
  {
   "cell_type": "markdown",
   "metadata": {},
   "source": [
    "### Pre-dataloading"
   ]
  },
  {
   "cell_type": "code",
   "execution_count": null,
   "metadata": {},
   "outputs": [],
   "source": [
    "df_train = pd.read_csv('Train.csv')\n",
    "df_test = pd.read_csv('Test.csv')\n",
    "df_riders = pd.read_csv('Riders.csv')\n",
    "\n",
    "# Join rider info to train/test\n",
    "df_train = pd.merge(df_train, df_riders, how='left', left_on=['Rider Id'], right_on=['Rider Id'])\n",
    "df_test = pd.merge(df_test, df_riders, how='left', left_on=['Rider Id'], right_on=['Rider Id'])"
   ]
  },
  {
   "cell_type": "code",
   "execution_count": null,
   "metadata": {
    "scrolled": true
   },
   "outputs": [],
   "source": [
    "hexss = pd.read_json('travel_times/540_hexclusters.json')\n",
    "dict_ = {}\n",
    "for itm in hexss['features']:\n",
    "    dict_[int(itm['properties']['MOVEMENT_ID'])] = Polygon(itm['geometry']['coordinates'][0])\n"
   ]
  },
  {
   "cell_type": "code",
   "execution_count": null,
   "metadata": {},
   "outputs": [],
   "source": [
    "## Make pickup and destination points\n",
    "df_train['pickup'] = [Point(row['Pickup Long'], row['Pickup Lat']) for i,row in df_train.iterrows()]\n",
    "df_train['destination'] = [Point(row['Destination Long'], row['Destination Lat']) for i,row in df_train.iterrows()]\n",
    "\n",
    "df_test['pickup'] = [Point(row['Pickup Long'], row['Pickup Lat']) for i,row in df_test.iterrows()]\n",
    "df_test['destination'] = [Point(row['Destination Long'], row['Destination Lat']) for i,row in df_test.iterrows()]\n",
    "\n",
    "\n",
    "## find the hex shape the points belong to\n",
    "df_train['pickup_ID'] = df_train['pickup'].apply(lambda x: max([k if x.within(v) else -1 for k,v in dict_.items()]))\n",
    "df_train['destination_ID'] = df_train['destination'].apply(lambda x: max([k if x.within(v) else -1 for k,v in dict_.items()]))\n",
    "\n",
    "df_test['pickup_ID'] = df_test['pickup'].apply(lambda x: max([k if x.within(v) else -1 for k,v in dict_.items()]))\n",
    "df_test['destination_ID'] = df_test['destination'].apply(lambda x: max([k if x.within(v) else -1 for k,v in dict_.items()]))\n"
   ]
  },
  {
   "cell_type": "markdown",
   "metadata": {},
   "source": [
    "### Time "
   ]
  },
  {
   "cell_type": "code",
   "execution_count": null,
   "metadata": {},
   "outputs": [],
   "source": [
    "train_time_col = ['Placement', 'Confirmation', 'Arrival at Pickup', 'Pickup', 'Arrival at Destination']\n",
    "test_time_col  = ['Placement', 'Confirmation', 'Arrival at Pickup', 'Pickup']\n",
    "time_cat = ['Day of Month', 'Weekday (Mo = 1) ', 'Time']\n",
    "\n",
    "for col in test_time_col:\n",
    "    time_col = col + ' - Time'\n",
    "    \n",
    "    df_train[time_col] = pd.to_datetime(df_train[time_col])\n",
    "    df_train[time_col+'_hour'] = df_train[time_col].dt.hour\n",
    "    df_train[time_col] = df_train[time_col].dt.hour * 60 + df_train[time_col].dt.minute\n",
    "    \n",
    "    df_test[time_col] = pd.to_datetime(df_test[time_col])\n",
    "    df_test[time_col+'_hour'] = df_test[time_col].dt.hour\n",
    "    df_test[time_col] = df_test[time_col].dt.hour * 60 + df_test[time_col].dt.minute    "
   ]
  },
  {
   "cell_type": "code",
   "execution_count": null,
   "metadata": {},
   "outputs": [],
   "source": [
    "cat_col = ['Personal or Business']\n",
    "df_train['Personal or Business'] = df_train['Personal or Business'].astype('category').cat.codes\n",
    "df_test['Personal or Business'] = df_test['Personal or Business'].astype('category').cat.codes"
   ]
  },
  {
   "cell_type": "code",
   "execution_count": null,
   "metadata": {},
   "outputs": [],
   "source": [
    "## Save Pickle dataframes\n",
    "df_train.to_pickle('df_train.pkl')\n",
    "df_test.to_pickle('df_test.pkl')"
   ]
  },
  {
   "cell_type": "markdown",
   "metadata": {},
   "source": [
    "## Start here"
   ]
  },
  {
   "cell_type": "code",
   "execution_count": 2,
   "metadata": {},
   "outputs": [],
   "source": [
    "#### Read Pickled dataframes ############\n",
    "df_train = pd.read_pickle('df_train.pkl')\n",
    "df_test = pd.read_pickle('df_test.pkl')"
   ]
  },
  {
   "cell_type": "code",
   "execution_count": 3,
   "metadata": {},
   "outputs": [
    {
     "name": "stdout",
     "output_type": "stream",
     "text": [
      "Shape before merge: (21201, 41)\n",
      "Shape after merge: (21201, 48)\n",
      "Shape before merge: (7068, 37)\n",
      "Shape after merge: (7068, 44)\n"
     ]
    }
   ],
   "source": [
    "## Merge the average travel times to the pickup and destination shapes\n",
    "tt_weekly = pd.read_csv('travel_times/nairobi-hexclusters-2018-4-WeeklyAggregate.csv')\n",
    "\n",
    "print ('Shape before merge:', df_train.shape)\n",
    "df_train = pd.merge(df_train, tt_weekly\n",
    "              , how='left'\n",
    "              , left_on=['pickup_ID','destination_ID','Pickup - Weekday (Mo = 1)']\n",
    "              , right_on=[ 'dstid','sourceid', 'dow']\n",
    "              , suffixes=('_hour', '_week')\n",
    "         )\n",
    "print ('Shape after merge:', df_train.shape)\n",
    "print ('Shape before merge:', df_test.shape)\n",
    "df_test = pd.merge(df_test, tt_weekly\n",
    "          , how='left'\n",
    "              , left_on=['pickup_ID','destination_ID','Pickup - Weekday (Mo = 1)']\n",
    "              , right_on=[ 'dstid','sourceid', 'dow']\n",
    "              , suffixes=('_hour', '_week')\n",
    "         )\n",
    "print ('Shape after merge:', df_test.shape)\n",
    "\n",
    "del tt_weekly"
   ]
  },
  {
   "cell_type": "code",
   "execution_count": 4,
   "metadata": {},
   "outputs": [],
   "source": [
    "df_train.set_index('Order No', inplace=True)\n",
    "df_test.set_index('Order No', inplace=True)"
   ]
  },
  {
   "cell_type": "code",
   "execution_count": 6,
   "metadata": {},
   "outputs": [],
   "source": [
    "# ## Drop columns\n",
    "drop_columns = []\n",
    "drop_columns_train = ['Rider Id', 'pickup', 'destination', 'Vehicle Type'\n",
    "                      , 'Arrival at Destination - Time', 'Arrival at Destination - Day of Month'\n",
    "                      , 'Arrival at Destination - Weekday (Mo = 1)','dstid','sourceid', 'dow'\n",
    "                      , 'Pickup - Time_hour']\n",
    "\n",
    "drop_columns_test = ['Rider Id', 'pickup', 'Vehicle Type',\n",
    "                     'destination','dstid','sourceid', 'dow', 'Pickup - Time_hour']\n",
    "\n",
    "df_train = df_train.drop(drop_columns_train, axis=1)\n",
    "df_test = df_test.drop(drop_columns_test, axis=1)\n",
    "\n",
    "lable = df_train.pop('Time from Pickup to Arrival')"
   ]
  },
  {
   "cell_type": "markdown",
   "metadata": {},
   "source": [
    "## Pipeline"
   ]
  },
  {
   "cell_type": "code",
   "execution_count": 7,
   "metadata": {},
   "outputs": [],
   "source": [
    "class clusterer(BaseEstimator, TransformerMixin):\n",
    "    \"\"\"Clusters gtfs positions with hdbscan algorithm. Calls approximate_predict from transform.\n",
    "       Copied from tidsmakin longterm pipeline \"\"\"\n",
    "    def __init__(self, min_cluster_size, columns, name):\n",
    "        self.min_cluster_size = min_cluster_size\n",
    "        self.columns= columns\n",
    "        self.cluster = hdbscan.HDBSCAN(self.min_cluster_size, prediction_data=True, core_dist_n_jobs=-1)\n",
    "        self.name = name\n",
    "        self.feature_names = None\n",
    "\n",
    "\n",
    "    def fit(self, X, y=None, **args):\n",
    "        \"\"\"Calls inner fit method. Requires X to have columns 'lon' and 'lat'.\"\"\"\n",
    "        self.cluster.fit(X[self.columns])\n",
    "        return self\n",
    "    \n",
    "    def transform(self, X, y=None, **args):\n",
    "        \"\"\"Calls approximate_predict method. Requires X to have columns 'lon' and 'lat'.\"\"\"\n",
    "        X = X.copy()\n",
    "        X[self.name] = hdbscan.approximate_predict(self.cluster, X[self.columns])[0]\n",
    "        return X\n",
    "    \n",
    "    def fit_transform(self, X, y=None, **args):\n",
    "        \"\"\"Calls inner fit_transform method. Requires X to have columns 'lon' and 'lat'.\"\"\"\n",
    "        X = X.copy()\n",
    "        X[self.name] = self.cluster.fit_predict(X[self.columns])\n",
    "        return X\n"
   ]
  },
  {
   "cell_type": "code",
   "execution_count": 8,
   "metadata": {},
   "outputs": [],
   "source": [
    "class averager(BaseEstimator, TransformerMixin):\n",
    "    \"\"\"takes a cluster and cerates averages\"\"\"\n",
    "    \n",
    "    def __init__(self, cluster_col, name, avg_col):\n",
    "        self.cluster_col=cluster_col\n",
    "        self.name = name\n",
    "        self.avg_col = avg_col\n",
    "        self.temp = None\n",
    "        self.feature_names = None\n",
    "        \n",
    "    def fit(self, X, y=None, **args):\n",
    "        X = X.copy()\n",
    "        self.temp = X.groupby(by=self.cluster_col)[self.avg_col].mean().rename(self.name)\n",
    "        return self\n",
    "    \n",
    "    def transform(self, X, y=None, **args):\n",
    "        X = X.copy()\n",
    "        X = pd.merge(X, self.temp, how='left', left_on=self.cluster_col, right_index=True)\n",
    "        return X\n"
   ]
  },
  {
   "cell_type": "code",
   "execution_count": 9,
   "metadata": {},
   "outputs": [],
   "source": [
    "class FeatureSelector(BaseEstimator, TransformerMixin):\n",
    "\n",
    "    def __init__(self, all_features=None, selected_features=None):\n",
    "        \"\"\"Constructor\"\"\"\n",
    "        self.all_features = all_features\n",
    "        self.selected_features = selected_features\n",
    "        self.mask = np.isin(all_features, selected_features)\n",
    "        \n",
    "    def fit(self, X, y=None):\n",
    "        \"\"\"Do nothing\"\"\"\n",
    "        return self\n",
    "    \n",
    "    def transform(self, X, y=None):\n",
    "        \"\"\"Filter columns based on selected_features\"\"\"\n",
    "        return X[self.selected_features]\n",
    "#         if isinstance(X, DataFrame):\n",
    "#             return X.loc[:, self.mask]\n",
    "#         else:\n",
    "#             return X[:, self.mask]     "
   ]
  },
  {
   "cell_type": "code",
   "execution_count": 10,
   "metadata": {},
   "outputs": [],
   "source": [
    "## Two pipelines\n",
    "\n",
    "model = XGBRegressor()\n",
    "\n",
    "\n",
    "## Add the names of features created in the pipeline to the selected features list - automate this!\n",
    "selected_features=['Personal or Business', \n",
    "                   'Placement - Day of Month',\n",
    "                   'Placement - Weekday (Mo = 1)', \n",
    "                   'Confirmation - Day of Month',\n",
    "                   'Confirmation - Weekday (Mo = 1)', \n",
    "#                    'Confirmation - Time',\n",
    "#                    'Arrival at Pickup - Day of Month',\n",
    "                   'Arrival at Pickup - Weekday (Mo = 1)', \n",
    "#                    'Arrival at Pickup - Time',\n",
    "                   'Pickup - Day of Month', \n",
    "#                    'Pickup - Weekday (Mo = 1)', \n",
    "                   'Pickup - Time',\n",
    "#                    'Distance (KM)', \n",
    "                   'Destination Lat',\n",
    "                   'Destination Long', \n",
    "                   'No_Of_Orders', \n",
    "                   'Age', \n",
    "                   'Average_Rating',\n",
    "                   'No_of_Ratings', \n",
    "                   'pickup_ID', \n",
    "                   'destination_ID', \n",
    "                   'Placement - Time_hour',\n",
    "                   'Confirmation - Time_hour', \n",
    "                   'Arrival at Pickup - Time_hour',\n",
    "                   'mean_travel_time',\n",
    "#                    'standard_deviation_travel_time', \n",
    "                    'geometric_mean_travel_time',\n",
    "#                     'Pickup Lat', 'Pickup Long'\n",
    "#                    'pickup_cluster',\n",
    "#                    'dropoff_cluster',\n",
    "#                    'trip_cluster',\n",
    "#                    'pickup_avg',\n",
    "#                    'Dropoff_avg',\n",
    "#                    'pickup_avg'\n",
    "                   \n",
    "                     'trip_avg','Dropoff_avg','pickup_avg'\n",
    "                   , 'pickup_cluster', 'dropoff_cluster'\n",
    "                   , 'trip_cluster'\n",
    "                   \n",
    "                  ]\n",
    "\n",
    "preprocess = Pipeline([\n",
    "    ('Pickup_clusterer', clusterer(min_cluster_size=20, columns=['Pickup Lat', 'Pickup Long'], name= 'pickup_cluster')),\n",
    "    ('Dropoff_clusterer', clusterer(min_cluster_size=20, columns=['Destination Lat', 'Destination Long'], name= 'dropoff_cluster')),\n",
    "    ('Trip_clusterer', clusterer(min_cluster_size=10, columns=['Pickup Lat', 'Pickup Long', 'Destination Lat', 'Destination Long'], name='trip_cluster')),\n",
    "    ('Pickup_avg', averager(cluster_col=['pickup_cluster'], name='pickup_avg', avg_col='mean_travel_time')), \n",
    "    ('trip_avg', averager(cluster_col=['trip_cluster'], name='trip_avg', avg_col='mean_travel_time')), \n",
    "    ('Dropoff_avg', averager(cluster_col=['dropoff_cluster'], name='Dropoff_avg', avg_col='mean_travel_time')), \n",
    "])\n",
    "\n",
    "my_pipeline= Pipeline([\n",
    "    ('preprocess', preprocess),\n",
    "    ('featureSelector', FeatureSelector(all_features=df_train.columns.tolist(), selected_features=selected_features )),\n",
    "    ('Estimator', XGBRegressor(n_jobs=-1, min_child_weight=1, learning_rate=0.1, max_depth=4, n_estimators=400 ))\n",
    "])"
   ]
  },
  {
   "cell_type": "markdown",
   "metadata": {},
   "source": [
    "## Cross-validate"
   ]
  },
  {
   "cell_type": "code",
   "execution_count": 11,
   "metadata": {
    "scrolled": false
   },
   "outputs": [
    {
     "name": "stdout",
     "output_type": "stream",
     "text": [
      "Mean Absolute Error 764.791459\n"
     ]
    }
   ],
   "source": [
    "scores = cross_val_score(my_pipeline, df_train, lable, cv=10, scoring='neg_mean_squared_error', n_jobs=-1)\n",
    "print('Mean Absolute Error %2f' %sqrt((-1 * scores.mean())))"
   ]
  },
  {
   "cell_type": "markdown",
   "metadata": {},
   "source": [
    "one pipeline - to rule them all:                     769.320854\n",
    "two pipeline - feature selector in second pipeline:  769.320854\n",
    "two pipelines - feature selector in first pipeline : 769.320854\n",
    "\n",
    "Å pakke ting inn i en eller to pipelines har ingenting å si!\n",
    "\n",
    "\n",
    "749.371063 - 726.662699687515\n",
    "\n",
    "\n",
    "748.848552, \n",
    "\n",
    "762.84814, 762.848142, 762.848142\n",
    "\n",
    "768.172496, 768.952424, 761.971832, 763.887159, 763.132690\n",
    "\n",
    "762.318764 - 743.164917057135\n",
    "\n",
    "761.367317 - 744.727784575196 \n",
    "\n",
    "761.458746 - 741.294873650194 \n",
    "\n",
    "764.110400 - 745.093392694508 \n",
    "\n",
    "987.677534, 785.500839, 768.550634, 769.223604"
   ]
  },
  {
   "cell_type": "markdown",
   "metadata": {},
   "source": [
    "# Submit"
   ]
  },
  {
   "cell_type": "code",
   "execution_count": 12,
   "metadata": {},
   "outputs": [],
   "source": [
    "# Fit model\n",
    "pipe = my_pipeline.fit(df_train, lable)"
   ]
  },
  {
   "cell_type": "code",
   "execution_count": 13,
   "metadata": {
    "scrolled": false
   },
   "outputs": [
    {
     "data": {
      "image/png": "[encoded data removed]",
      "text/plain": [
       "<Figure size 1080x504 with 1 Axes>"
      ]
     },
     "metadata": {
      "needs_background": "light"
     },
     "output_type": "display_data"
    }
   ],
   "source": [
    "feature_importance = pd.DataFrame(list(zip(my_pipeline.named_steps['featureSelector'].selected_features, pipe.named_steps[\"Estimator\"].feature_importances_)), columns=['features', 'importance'])\n",
    "feature_importance.set_index('features', drop=True, inplace=True)\n",
    "feature_importance.sort_values(by='importance', ascending=True, inplace=True)\n",
    "feature_importance.plot(kind='barh', legend=False, grid=True, figsize=[15,7]);"
   ]
  },
  {
   "cell_type": "code",
   "execution_count": 263,
   "metadata": {},
   "outputs": [
    {
     "ename": "ValueError",
     "evalue": "DataFrame.dtypes for data must be int, float or bool.\n                Did not expect the data types in fields User Id",
     "output_type": "error",
     "traceback": [
      "\u001b[0;31m---------------------------------------------------------------------------\u001b[0m",
      "\u001b[0;31mValueError\u001b[0m                                Traceback (most recent call last)",
      "\u001b[0;32m<ipython-input-263-064c0f979edf>\u001b[0m in \u001b[0;36m<module>\u001b[0;34m\u001b[0m\n\u001b[1;32m      9\u001b[0m \u001b[0;34m\u001b[0m\u001b[0m\n\u001b[1;32m     10\u001b[0m \u001b[0mexplainer\u001b[0m \u001b[0;34m=\u001b[0m \u001b[0mshap\u001b[0m\u001b[0;34m.\u001b[0m\u001b[0mTreeExplainer\u001b[0m\u001b[0;34m(\u001b[0m\u001b[0mpipe\u001b[0m\u001b[0;34m.\u001b[0m\u001b[0mnamed_steps\u001b[0m\u001b[0;34m[\u001b[0m\u001b[0;34m'Estimator'\u001b[0m\u001b[0;34m]\u001b[0m\u001b[0;34m)\u001b[0m\u001b[0;34m\u001b[0m\u001b[0;34m\u001b[0m\u001b[0m\n\u001b[0;32m---> 11\u001b[0;31m \u001b[0mshap_values\u001b[0m \u001b[0;34m=\u001b[0m \u001b[0mexplainer\u001b[0m\u001b[0;34m.\u001b[0m\u001b[0mshap_values\u001b[0m\u001b[0;34m(\u001b[0m\u001b[0mdf_test_\u001b[0m\u001b[0;34m)\u001b[0m\u001b[0;34m\u001b[0m\u001b[0;34m\u001b[0m\u001b[0m\n\u001b[0m\u001b[1;32m     12\u001b[0m \u001b[0mshap\u001b[0m\u001b[0;34m.\u001b[0m\u001b[0msummary_plot\u001b[0m\u001b[0;34m(\u001b[0m\u001b[0mshap_values\u001b[0m\u001b[0;34m,\u001b[0m \u001b[0mdf_test_\u001b[0m\u001b[0;34m,\u001b[0m \u001b[0mplot_type\u001b[0m\u001b[0;34m=\u001b[0m\u001b[0;34m\"bar\"\u001b[0m\u001b[0;34m)\u001b[0m\u001b[0;34m\u001b[0m\u001b[0;34m\u001b[0m\u001b[0m\n",
      "\u001b[0;32m/miniconda3/envs/tid37/lib/python3.7/site-packages/shap/explainers/tree.py\u001b[0m in \u001b[0;36mshap_values\u001b[0;34m(self, X, y, tree_limit, approximate)\u001b[0m\n\u001b[1;32m    170\u001b[0m                 \u001b[0massert_import\u001b[0m\u001b[0;34m(\u001b[0m\u001b[0;34m\"xgboost\"\u001b[0m\u001b[0;34m)\u001b[0m\u001b[0;34m\u001b[0m\u001b[0;34m\u001b[0m\u001b[0m\n\u001b[1;32m    171\u001b[0m                 \u001b[0;32mif\u001b[0m \u001b[0;32mnot\u001b[0m \u001b[0mstr\u001b[0m\u001b[0;34m(\u001b[0m\u001b[0mtype\u001b[0m\u001b[0;34m(\u001b[0m\u001b[0mX\u001b[0m\u001b[0;34m)\u001b[0m\u001b[0;34m)\u001b[0m\u001b[0;34m.\u001b[0m\u001b[0mendswith\u001b[0m\u001b[0;34m(\u001b[0m\u001b[0;34m\"xgboost.core.DMatrix'>\"\u001b[0m\u001b[0;34m)\u001b[0m\u001b[0;34m:\u001b[0m\u001b[0;34m\u001b[0m\u001b[0;34m\u001b[0m\u001b[0m\n\u001b[0;32m--> 172\u001b[0;31m                     \u001b[0mX\u001b[0m \u001b[0;34m=\u001b[0m \u001b[0mxgboost\u001b[0m\u001b[0;34m.\u001b[0m\u001b[0mDMatrix\u001b[0m\u001b[0;34m(\u001b[0m\u001b[0mX\u001b[0m\u001b[0;34m)\u001b[0m\u001b[0;34m\u001b[0m\u001b[0;34m\u001b[0m\u001b[0m\n\u001b[0m\u001b[1;32m    173\u001b[0m                 \u001b[0;32mif\u001b[0m \u001b[0mtree_limit\u001b[0m \u001b[0;34m==\u001b[0m \u001b[0;34m-\u001b[0m\u001b[0;36m1\u001b[0m\u001b[0;34m:\u001b[0m\u001b[0;34m\u001b[0m\u001b[0;34m\u001b[0m\u001b[0m\n\u001b[1;32m    174\u001b[0m                     \u001b[0mtree_limit\u001b[0m \u001b[0;34m=\u001b[0m \u001b[0;36m0\u001b[0m\u001b[0;34m\u001b[0m\u001b[0;34m\u001b[0m\u001b[0m\n",
      "\u001b[0;32m/miniconda3/envs/tid37/lib/python3.7/site-packages/xgboost/core.py\u001b[0m in \u001b[0;36m__init__\u001b[0;34m(self, data, label, missing, weight, silent, feature_names, feature_types, nthread)\u001b[0m\n\u001b[1;32m    382\u001b[0m         data, feature_names, feature_types = _maybe_pandas_data(data,\n\u001b[1;32m    383\u001b[0m                                                                 \u001b[0mfeature_names\u001b[0m\u001b[0;34m,\u001b[0m\u001b[0;34m\u001b[0m\u001b[0;34m\u001b[0m\u001b[0m\n\u001b[0;32m--> 384\u001b[0;31m                                                                 feature_types)\n\u001b[0m\u001b[1;32m    385\u001b[0m \u001b[0;34m\u001b[0m\u001b[0m\n\u001b[1;32m    386\u001b[0m         data, feature_names, feature_types = _maybe_dt_data(data,\n",
      "\u001b[0;32m/miniconda3/envs/tid37/lib/python3.7/site-packages/xgboost/core.py\u001b[0m in \u001b[0;36m_maybe_pandas_data\u001b[0;34m(data, feature_names, feature_types)\u001b[0m\n\u001b[1;32m    239\u001b[0m         msg = \"\"\"DataFrame.dtypes for data must be int, float or bool.\n\u001b[1;32m    240\u001b[0m                 Did not expect the data types in fields \"\"\"\n\u001b[0;32m--> 241\u001b[0;31m         \u001b[0;32mraise\u001b[0m \u001b[0mValueError\u001b[0m\u001b[0;34m(\u001b[0m\u001b[0mmsg\u001b[0m \u001b[0;34m+\u001b[0m \u001b[0;34m', '\u001b[0m\u001b[0;34m.\u001b[0m\u001b[0mjoin\u001b[0m\u001b[0;34m(\u001b[0m\u001b[0mbad_fields\u001b[0m\u001b[0;34m)\u001b[0m\u001b[0;34m)\u001b[0m\u001b[0;34m\u001b[0m\u001b[0;34m\u001b[0m\u001b[0m\n\u001b[0m\u001b[1;32m    242\u001b[0m \u001b[0;34m\u001b[0m\u001b[0m\n\u001b[1;32m    243\u001b[0m     \u001b[0;32mif\u001b[0m \u001b[0mfeature_names\u001b[0m \u001b[0;32mis\u001b[0m \u001b[0;32mNone\u001b[0m\u001b[0;34m:\u001b[0m\u001b[0;34m\u001b[0m\u001b[0;34m\u001b[0m\u001b[0m\n",
      "\u001b[0;31mValueError\u001b[0m: DataFrame.dtypes for data must be int, float or bool.\n                Did not expect the data types in fields User Id"
     ]
    }
   ],
   "source": [
    "# df_test_ = preprocess.named_steps['Pickup_clusterer'].transform(df_test)\n",
    "# df_test_ = preprocess.named_steps['Dropoff_clusterer'].transform(df_test_)\n",
    "# df_test_ = preprocess.named_steps['Trip_clusterer'].transform(df_test_)\n",
    "# df_test_ = preprocess.named_steps['Pickup_avg'].transform(df_test_)\n",
    "# df_test_ = my_pipeline.named_steps['featureSelector'].transform(df_test_)\n",
    "pip = preprocess.fit(df_train)\n",
    "df_test_ = preprocess.transform(df_train)\n",
    "\n",
    "\n",
    "explainer = shap.TreeExplainer(pipe.named_steps['Estimator'])\n",
    "shap_values = explainer.shap_values(df_test_)\n",
    "shap.summary_plot(shap_values, df_test_, plot_type=\"bar\")"
   ]
  },
  {
   "cell_type": "code",
   "execution_count": null,
   "metadata": {
    "scrolled": true
   },
   "outputs": [],
   "source": [
    "shap.summary_plot(shap_values, df_test_)"
   ]
  },
  {
   "cell_type": "code",
   "execution_count": null,
   "metadata": {},
   "outputs": [],
   "source": [
    "for name in df_test_.columns:\n",
    "    shap.dependence_plot(name, shap_values, df_test_, display_features=df_test_)"
   ]
  },
  {
   "cell_type": "code",
   "execution_count": 15,
   "metadata": {},
   "outputs": [],
   "source": [
    "result = my_pipeline.predict(df_test)\n",
    "ids = df_test.index\n",
    "submit = pd.DataFrame({'Order_No':ids,'Time from Pickup to Arrival':result.astype(int)}).set_index('Order_No')\n",
    "submit.to_csv('submit.csv')"
   ]
  },
  {
   "cell_type": "markdown",
   "metadata": {},
   "source": [
    "## Grid Search"
   ]
  },
  {
   "cell_type": "code",
   "execution_count": null,
   "metadata": {
    "scrolled": false
   },
   "outputs": [],
   "source": [
    "params = {\n",
    "         'Pickup_clusterer__min_cluster_size': [20, 60, 80],\n",
    "         'Dropoff_clusterer__min_cluster_size': [20, 60, 80],\n",
    "         'Trip_clusterer__min_cluster_size': [10, 20],\n",
    "         'Estimator__max_depth': [2, 3, 4, 7],\n",
    "         'Estimator__n_estimators': [50, 200, 400],\n",
    "         'Estimator__min_child_weight': [1, 2],\n",
    "         'Estimator__learning_rate': [0.1, 0.01, 0.5],\n",
    "    }\n",
    "\n",
    "grid = GridSearchCV(estimator=my_pipeline, param_grid= params, scoring='neg_mean_squared_error', n_jobs=-1, cv=5)\n",
    "grid.fit(df_train, lable)"
   ]
  },
  {
   "cell_type": "code",
   "execution_count": null,
   "metadata": {},
   "outputs": [],
   "source": [
    "print ('Best score = %s' %sqrt(-1 * grid.best_score_))\n",
    "print ('Best paramter combination = ', grid.best_params_)"
   ]
  },
  {
   "cell_type": "code",
   "execution_count": null,
   "metadata": {},
   "outputs": [],
   "source": [
    "pred = grid.predict(df_test)\n",
    "\n",
    "print ('rmse score = %s' %sqrt(-1 * pred.best_score_))"
   ]
  },
  {
   "cell_type": "markdown",
   "metadata": {},
   "source": [
    "## Appendix (fint ord for junk)"
   ]
  },
  {
   "cell_type": "code",
   "execution_count": null,
   "metadata": {},
   "outputs": [],
   "source": [
    "# model = XGBRegressor()\n",
    "\n",
    "# selected_features=['Personal or Business', \n",
    "#                    'Placement - Day of Month',\n",
    "#                    'Placement - Weekday (Mo = 1)', \n",
    "#                    'Confirmation - Day of Month',\n",
    "#                    'Confirmation - Weekday (Mo = 1)', \n",
    "#                    'Confirmation - Time',\n",
    "#                    'Arrival at Pickup - Day of Month',\n",
    "#                    'Arrival at Pickup - Weekday (Mo = 1)', \n",
    "#                    'Arrival at Pickup - Time',\n",
    "#                    'Pickup - Day of Month', \n",
    "#                    'Pickup - Weekday (Mo = 1)', \n",
    "#                    'Pickup - Time',\n",
    "#                    'Distance (KM)', \n",
    "#                    'Destination Lat',\n",
    "#                    'Destination Long', \n",
    "#                    'No_Of_Orders', \n",
    "#                    'Age', \n",
    "#                    'Average_Rating',\n",
    "#                    'No_of_Ratings', \n",
    "#                    'pickup_ID', \n",
    "#                    'destination_ID', \n",
    "#                    'Placement - Time_hour',\n",
    "#                    'Confirmation - Time_hour', \n",
    "#                    'Arrival at Pickup - Time_hour',\n",
    "#                    'Pickup - Time_hour', \n",
    "#                    'mean_travel_time',\n",
    "#                    'standard_deviation_travel_time', \n",
    "#                    'geometric_mean_travel_time',\n",
    "# #                     ,'Pickup Lat', 'Pickup Long'\n",
    "#                   ]\n",
    "\n",
    "# preprocess = Pipeline([\n",
    "#     ('Pickup_clusterer', clusterer(min_cluster_size=60, columns=['Pickup Lat', 'Pickup Long'], name= 'pickup_cluster')),\n",
    "#     ('Dropoff_clusterer', clusterer(min_cluster_size=60, columns=['Destination Lat', 'Destination Long'], name= 'dropoff_cluster')),\n",
    "#     ('Trip_clusterer', clusterer(min_cluster_size=10, columns=['Pickup Lat', 'Pickup Long', 'Destination Lat', 'Destination Long'], name='trip_cluster')),\n",
    "#     ('Pickup_avg', averager(cluster_col=['pickup_cluster'], name='pickup_avg', avg_col='geometric_mean_travel_time')), \n",
    "#     ('featureSelector', FeatureSelector(all_features=df_train.columns.tolist(), selected_features=selected_features )),\n",
    "# ])\n",
    "    \n",
    "# my_pipeline = Pipeline([\n",
    "#     ('preprocess',preprocess ),\n",
    "#     ('Estimator', XGBRegressor(n_jobs=-1))\n",
    "# ])\n",
    "    "
   ]
  },
  {
   "cell_type": "code",
   "execution_count": null,
   "metadata": {},
   "outputs": [],
   "source": [
    "# ### ONE PIPELINE\n",
    "\n",
    "# model = XGBRegressor()\n",
    "\n",
    "# selected_features=['Personal or Business', \n",
    "#                    'Placement - Day of Month',\n",
    "#                    'Placement - Weekday (Mo = 1)', \n",
    "#                    'Confirmation - Day of Month',\n",
    "#                    'Confirmation - Weekday (Mo = 1)', \n",
    "# #                    'Confirmation - Time',\n",
    "# #                    'Arrival at Pickup - Day of Month',\n",
    "#                    'Arrival at Pickup - Weekday (Mo = 1)', \n",
    "# #                    'Arrival at Pickup - Time',\n",
    "#                    'Pickup - Day of Month', \n",
    "# #                    'Pickup - Weekday (Mo = 1)', \n",
    "#                    'Pickup - Time',\n",
    "# #                    'Distance (KM)', \n",
    "#                    'Destination Lat',\n",
    "#                    'Destination Long', \n",
    "#                    'No_Of_Orders', \n",
    "#                    'Age', \n",
    "#                    'Average_Rating',\n",
    "#                    'No_of_Ratings', \n",
    "#                    'pickup_ID', \n",
    "#                    'destination_ID', \n",
    "#                    'Placement - Time_hour',\n",
    "#                    'Confirmation - Time_hour', \n",
    "#                    'Arrival at Pickup - Time_hour',\n",
    "#                    'mean_travel_time',\n",
    "# #                    'standard_deviation_travel_time', \n",
    "#                     'geometric_mean_travel_time',\n",
    "# #                     'Pickup Lat', 'Pickup Long'\n",
    "# #                    'pickup_cluster',\n",
    "# #                    'dropoff_cluster',\n",
    "# #                    'trip_cluster',\n",
    "# #                    'pickup_avg',\n",
    "# #                    'Dropoff_avg',\n",
    "# #                    'pickup_avg'\n",
    "                   \n",
    "#                    'trip_avg','Dropoff_avg','pickup_avg', 'pickup_cluster', 'dropoff_cluster'\n",
    "#                    , 'trip_cluster'\n",
    "#                   ]\n",
    "\n",
    "# pre_columns = [    ]\n",
    "\n",
    "\n",
    "# preprocess = Pipeline([\n",
    "#     ('Pickup_clusterer', clusterer(min_cluster_size=20, columns=['Pickup Lat', 'Pickup Long'], name= 'pickup_cluster')),\n",
    "#     ('Dropoff_clusterer', clusterer(min_cluster_size=20, columns=['Destination Lat', 'Destination Long'], name= 'dropoff_cluster')),\n",
    "#     ('Trip_clusterer', clusterer(min_cluster_size=10, columns=['Pickup Lat', 'Pickup Long', 'Destination Lat', 'Destination Long'], name='trip_cluster')),\n",
    "#     ('Pickup_avg', averager(cluster_col=['pickup_cluster'], name='pickup_avg', avg_col='mean_travel_time')), \n",
    "#     ('trip_avg', averager(cluster_col=['trip_cluster'], name='trip_avg', avg_col='mean_travel_time')), \n",
    "#     ('Dropoff_avg', averager(cluster_col=['dropoff_cluster'], name='Dropoff_avg', avg_col='mean_travel_time')), \n",
    "#     ('featureSelector', FeatureSelector(all_features=df_train.columns.tolist(), selected_features=selected_features )),\n",
    "# ])\n",
    "\n",
    "# my_pipeline= Pipeline([\n",
    "#     ('preprocess', preprocess),   \n",
    "#     ('Estimator', XGBRegressor(n_jobs=-1, min_child_weight=1, learning_rate=0.1, max_depth=4, n_estimators=400 ))\n",
    "# ])"
   ]
  },
  {
   "cell_type": "code",
   "execution_count": null,
   "metadata": {},
   "outputs": [],
   "source": [
    "# ### ONE PIPELINE\n",
    "\n",
    "# model = XGBRegressor()\n",
    "\n",
    "# selected_features=['Personal or Business', \n",
    "#                    'Placement - Day of Month',\n",
    "#                    'Placement - Weekday (Mo = 1)', \n",
    "#                    'Confirmation - Day of Month',\n",
    "#                    'Confirmation - Weekday (Mo = 1)', \n",
    "# #                    'Confirmation - Time',\n",
    "# #                    'Arrival at Pickup - Day of Month',\n",
    "#                    'Arrival at Pickup - Weekday (Mo = 1)', \n",
    "# #                    'Arrival at Pickup - Time',\n",
    "#                    'Pickup - Day of Month', \n",
    "# #                    'Pickup - Weekday (Mo = 1)', \n",
    "#                    'Pickup - Time',\n",
    "# #                    'Distance (KM)', \n",
    "#                    'Destination Lat',\n",
    "#                    'Destination Long', \n",
    "#                    'No_Of_Orders', \n",
    "#                    'Age', \n",
    "#                    'Average_Rating',\n",
    "#                    'No_of_Ratings', \n",
    "#                    'pickup_ID', \n",
    "#                    'destination_ID', \n",
    "#                    'Placement - Time_hour',\n",
    "#                    'Confirmation - Time_hour', \n",
    "#                    'Arrival at Pickup - Time_hour',\n",
    "#                    'mean_travel_time',\n",
    "# #                    'standard_deviation_travel_time', \n",
    "#                     'geometric_mean_travel_time',\n",
    "# #                     'Pickup Lat', 'Pickup Long'\n",
    "# #                    'pickup_cluster',\n",
    "# #                    'dropoff_cluster',\n",
    "# #                    'trip_cluster',\n",
    "# #                    'pickup_avg',\n",
    "# #                    'Dropoff_avg',\n",
    "# #                    'pickup_avg'\n",
    "                   \n",
    "#                   ]\n",
    "\n",
    "# my_pipeline = Pipeline([\n",
    "#     ('Pickup_clusterer', clusterer(min_cluster_size=20, columns=['Pickup Lat', 'Pickup Long'], name= 'pickup_cluster')),\n",
    "#     ('Dropoff_clusterer', clusterer(min_cluster_size=20, columns=['Destination Lat', 'Destination Long'], name= 'dropoff_cluster')),\n",
    "#     ('Trip_clusterer', clusterer(min_cluster_size=10, columns=['Pickup Lat', 'Pickup Long', 'Destination Lat', 'Destination Long'], name='trip_cluster')),\n",
    "#     ('Pickup_avg', averager(cluster_col=['pickup_cluster'], name='pickup_avg', avg_col='mean_travel_time')), \n",
    "#     ('trip_avg', averager(cluster_col=['trip_cluster'], name='trip_avg', avg_col='mean_travel_time')), \n",
    "#     ('Dropoff_avg', averager(cluster_col=['dropoff_cluster'], name='Dropoff_avg', avg_col='mean_travel_time')), \n",
    "#     ('featureSelector', FeatureSelector(all_features=df_train.columns.tolist(), selected_features=selected_features )),\n",
    "#     ('Estimator', XGBRegressor(n_jobs=-1, min_child_weight=1, learning_rate=0.1, max_depth=4, n_estimators=400 ))\n",
    "# ])"
   ]
  },
  {
   "cell_type": "markdown",
   "metadata": {},
   "source": [
    "## Plotting"
   ]
  },
  {
   "cell_type": "code",
   "execution_count": null,
   "metadata": {},
   "outputs": [],
   "source": [
    "a, b = zip(*hexss['features'][0]['geometry']['coordinates'][0])"
   ]
  },
  {
   "cell_type": "code",
   "execution_count": null,
   "metadata": {
    "scrolled": false
   },
   "outputs": [],
   "source": [
    "coords = hexss['features'][0]['geometry']['coordinates'][0]\n",
    "df_plot = df_train.sample(500)\n",
    "#plt.hold(True)\n",
    "#plt.plot(df_plot['Destination Long'], df_plot['Destination Lat'], 'r.')\n",
    "#plt.plot(df_plot['Pickup Long'], df_plot['Pickup Lat'], 'b.')\n",
    "plt.plot(a,b)\n",
    "# Create the map. Save the file to basic_plot.html. _map.html is the default\n",
    "# if 'path' is not specified\n",
    "#mplleaflet.show(path=mapfile)\n",
    "mplleaflet.display()"
   ]
  }
 ],
 "metadata": {
  "kernelspec": {
   "display_name": "Python 3",
   "language": "python",
   "name": "python3"
  },
  "language_info": {
   "codemirror_mode": {
    "name": "ipython",
    "version": 3
   },
   "file_extension": ".py",
   "mimetype": "text/x-python",
   "name": "python",
   "nbconvert_exporter": "python",
   "pygments_lexer": "ipython3",
   "version": "3.7.3"
  }
 },
 "nbformat": 4,
 "nbformat_minor": 2
}
