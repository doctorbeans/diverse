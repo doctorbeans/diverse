{
 "cells": [
  {
   "cell_type": "markdown",
   "metadata": {},
   "source": [
    "# Ture's Sendy Notebook\n",
    "import:"
   ]
  },
  {
   "cell_type": "code",
   "execution_count": 1,
   "metadata": {},
   "outputs": [],
   "source": [
    "import warnings\n",
    "from datetime import datetime\n",
    "from math import sqrt\n",
    "from scipy.stats import zscore\n",
    "import pandas as pd\n",
    "import numpy as np\n",
    "import seaborn as sns\n",
    "import mplleaflet\n",
    "from sklearn.ensemble import RandomForestRegressor\n",
    "from sklearn.metrics import mean_squared_error\n",
    "from xgboost.sklearn import XGBRegressor\n",
    "from sklearn.model_selection import GridSearchCV, cross_validate\n",
    "from sklearn.feature_selection import RFECV\n",
    "from sklearn.cluster import KMeans\n",
    "from sklearn.base import BaseEstimator, TransformerMixin\n",
    "from sklearn.pipeline import Pipeline\n",
    "from sklearn.impute import SimpleImputer\n",
    "from hdbscan import HDBSCAN, approximate_predict\n",
    "from sklearn.decomposition import PCA\n",
    "\n",
    "from pprint import pprint\n",
    "\n",
    "from IPython.core.interactiveshell import InteractiveShell\n",
    "from tures_pipeline import *\n",
    "\n",
    "InteractiveShell.ast_node_interactivity = \"all\" # enables multiple cell output\n",
    "%matplotlib inline\n",
    "pd.set_option('display.max_rows', 100)\n",
    "warnings.simplefilter(action='ignore', category=FutureWarning)"
   ]
  },
  {
   "cell_type": "markdown",
   "metadata": {},
   "source": [
    "load the prepared data:"
   ]
  },
  {
   "cell_type": "code",
   "execution_count": 2,
   "metadata": {},
   "outputs": [
    {
     "data": {
      "text/plain": [
       "(169756, 83)"
      ]
     },
     "execution_count": 2,
     "metadata": {},
     "output_type": "execute_result"
    },
    {
     "data": {
      "text/plain": [
       "(55679, 82)"
      ]
     },
     "execution_count": 2,
     "metadata": {},
     "output_type": "execute_result"
    }
   ],
   "source": [
    "tra = pd.read_pickle('data/prepped/Train.pkl')\n",
    "te = pd.read_pickle('data/prepped/Test.pkl')  \n",
    "ors = pd.read_pickle('data/prepped/ors_features.pkl')\n",
    "uber = pd.read_pickle('data/prepped/uber_features.pkl')\n",
    "trai = pd.merge(tra, ors, how='left', suffixes=('', '_o'), on=['PickupLong', 'PickupLat', 'DestinationLong', 'DestinationLat'])\n",
    "tes = pd.merge(te, ors, how='left', suffixes=('', '_o'), on=['PickupLong', 'PickupLat', 'DestinationLong', 'DestinationLat'])\n",
    "train = pd.merge(trai, uber, how='left', suffixes=('', '_u'), on=['PickupLong', 'PickupLat', 'DestinationLong', 'DestinationLat'])\n",
    "test = pd.merge(tes, uber, how='left', suffixes=('', '_u'), on=['PickupLong', 'PickupLat', 'DestinationLong', 'DestinationLat'])\n",
    "#Remove columns from train that are missing in test:\n",
    "train.drop(columns=['ArrivalDestinationDom', 'ArrivalDestinationTime', 'ArrivalDestinationWd'], inplace=True)\n",
    "train.shape\n",
    "test.shape"
   ]
  },
  {
   "cell_type": "markdown",
   "metadata": {},
   "source": [
    "cleaning:"
   ]
  },
  {
   "cell_type": "code",
   "execution_count": 3,
   "metadata": {},
   "outputs": [],
   "source": [
    "train = train[train.TravelTime > 10]\n",
    "train.Precipitation.fillna(0, inplace=True)\n",
    "test.Precipitation.fillna(0, inplace=True)"
   ]
  },
  {
   "cell_type": "markdown",
   "metadata": {},
   "source": [
    "feature engineering:"
   ]
  },
  {
   "cell_type": "code",
   "execution_count": 4,
   "metadata": {},
   "outputs": [],
   "source": [
    "train['PrepTime'] = train.PickupTime - train.ArrivalPickupTime\n",
    "test['PrepTime'] = test.PickupTime - test.ArrivalPickupTime\n",
    "train['ors_speed'] = train.ors_distance / train.ors_duration * 3600\n",
    "test['ors_speed'] = test.ors_distance / test.ors_duration * 3600\n",
    "train['PickupH'] = train.PickupTime.values // 3600\n",
    "test['PickupH'] = test.PickupTime.values // 3600\n",
    "\n",
    "#train['mean_dist'] = (train.md + train.Distance) / 2\n",
    "#test['mean_dist'] = (test.md + test.Distance) / 2\n",
    "\n",
    "#mid-time"
   ]
  },
  {
   "cell_type": "code",
   "execution_count": 5,
   "metadata": {},
   "outputs": [],
   "source": [
    "# PCA for temporal features\n",
    "#temporal = ['PickupDom', 'PickupTime', 'PickupWd']\n",
    "#pca2 = PCA(n_components=3)\n",
    "#pca2.fit(train[temporal])\n",
    "#plt.bar(range(pca2.n_components_), pca2.explained_variance_ratio_);\n",
    "#plt.plot(np.cumsum(pca2.explained_variance_ratio_));\n",
    "#train['pca21'], train['pca22'] = pca2.transform(train[temporal]).T\n",
    "#test['pca21'], test['pca22'] = pca2.transform(test[temporal]).T"
   ]
  },
  {
   "cell_type": "markdown",
   "metadata": {},
   "source": [
    "labelling:"
   ]
  },
  {
   "cell_type": "code",
   "execution_count": 22,
   "metadata": {},
   "outputs": [],
   "source": [
    "label = 'TravelTime'\n",
    "\n",
    "skipcols = ['ConfirmationDom', 'ArrivalDestinationWd', 'ArrivalDestinationDom', \n",
    "    'ArrivalPickupDom', 'ConfirmationWd', 'ArrivalPickupWd', 'PlacementDom', 'u0', 'dx', \n",
    "    'DestinationLong', 'PickupLong', 'PickupLat', 'DestinationLat', 'dy', 'v0', \n",
    "    'PlacementWd']\n",
    "skipcols += ['ArrivalDestinationTime']\n",
    "skipcols += [col for col in train.columns.values.tolist() if col.endswith('_pct')]\n",
    "skipcols += ['PickupHod', 'PickupWd_u', 'PickupHod_u'] \n",
    "skipcols += ['PlacementTime', 'ConfirmationTime', 'ArrivalPickupTime']\n",
    "skipcols += ['Personal', 'compactedGravel_distance', 'steddev_travelTime_uh', 'mean_travelTime_uh', 'ground_distance', 'dirt_distance', 'unmade_surface_distance', 'unpaved_distance', 'PlatformType']\n",
    "skipcols += ['propper_surface_distance']\n",
    "#skipcols += ['md']\n",
    "#skipcols += ['ut'] #'pxt','pyt','dxt','dyt','vt']\n",
    "skipcols += ['ors_duration']\n",
    "skipcols += ['concrete_distance'] #, 'ors_descent'] #'ors_ascent']\n",
    "#skipcols += temporal\n",
    "skipcols += ['ors_distance', 'destinationId'] #, 'asphalt_distance']\n",
    "skipcols += ['dxt', 'asphalt_distance', 'px', 'py', 'ors_steepness', 'no_waypoints'] #px\n",
    "skipcols += ['steddev_travelTime_uw', 'PickupWd']\n",
    "#skipcols += ['Distance', 'md']\n",
    "skipcols += ['PickupDom', 'PickupTime'] #, 'street_dist']\n",
    "#skipcols += ['PickupH']"
   ]
  },
  {
   "cell_type": "markdown",
   "metadata": {},
   "source": [
    "splitting:"
   ]
  },
  {
   "cell_type": "code",
   "execution_count": 23,
   "metadata": {},
   "outputs": [
    {
     "data": {
      "text/plain": [
       "True"
      ]
     },
     "execution_count": 23,
     "metadata": {},
     "output_type": "execute_result"
    }
   ],
   "source": [
    "y_train = train[label]\n",
    "X_train = train[train.columns.difference([label])] \n",
    "X_test = test\n",
    "#Sort columns\n",
    "X_train = X_train[sorted(X_train.columns)]\n",
    "X_test = X_test[sorted(X_test.columns)]\n",
    "X_train.columns.values.tolist() == X_test.columns.values.tolist()"
   ]
  },
  {
   "cell_type": "markdown",
   "metadata": {},
   "source": [
    "pipeline:"
   ]
  },
  {
   "cell_type": "code",
   "execution_count": 24,
   "metadata": {},
   "outputs": [],
   "source": [
    "pipe = Pipeline(steps=[\n",
    "    #('rotater', Rotater()),\n",
    "    ('t_clusterer', Clusterer(columns=['dx','dy', 'px', 'py', 'Distance'], name='t_cluster')),\n",
    "    #('p_clusterer', Clusterer(columns=['px', 'py'], name='p_cluster')),\n",
    "    #('d_clusterer', Clusterer(columns=['dx', 'dy'], name='d_cluster')),\n",
    "    ('temp_clusterer', Clusterer(columns=['PickupWd', 'PickupH', 'PickupDom'], name='temp_cluster')),\n",
    "    #('t_agg1', Aggregater(cluster_col='t_cluster', name='med_tt_pr_t_cluster', agg_col='mean_travelTime_uw', func='median')), \n",
    "    #('t_agg2', Aggregater(cluster_col='t_cluster', name='std_tt_pr_t_cluster', agg_col='TravelTime', func='std')),\n",
    "    #('p_agg1', Aggregater(cluster_col='p_cluster', name='med_tt_pr_p_cluster', agg_col='TravelTime', func='median')),\n",
    "    #('d_agg1', Aggregater(cluster_col='d_cluster', name='med_tt_pr_d_cluster', agg_col='TravelTime', func='median')),\n",
    "    #('temp_agg1', Aggregater(cluster_col='temp_cluster', name='med_tt_pr_temp_cluster', agg_col='TravelTime', func='median')),\n",
    "    ('imputer', Imputerr()),\n",
    "    ('selector', FeatureSelector()),\n",
    "    ('estimator', XGBRegressor()),\n",
    "])"
   ]
  },
  {
   "cell_type": "markdown",
   "metadata": {},
   "source": [
    "parameters:"
   ]
  },
  {
   "cell_type": "code",
   "execution_count": 25,
   "metadata": {},
   "outputs": [],
   "source": [
    "#pipe.get_params()\n",
    "params = {\n",
    "    'selector__skipcols': skipcols,\n",
    "    'estimator__max_depth': 4, \n",
    "    'estimator__n_estimators': 200, \n",
    "    'estimator__subsample': 0.8,\n",
    "    'estimator__objective': 'reg:squarederror',\n",
    "    'estimator__n_jobs': -1, \n",
    "    'estimator__random_state': 3,\n",
    "    'estimator__verbosity': 1,\n",
    "}"
   ]
  },
  {
   "cell_type": "markdown",
   "metadata": {},
   "source": [
    "training:"
   ]
  },
  {
   "cell_type": "code",
   "execution_count": 26,
   "metadata": {},
   "outputs": [
    {
     "name": "stdout",
     "output_type": "stream",
     "text": [
      "FeatureSelector – before 87 columns\n"
     ]
    }
   ],
   "source": [
    "pipe = pipe.set_params(**params)\n",
    "pipe = pipe.fit(X_train, y_train)\n",
    "r2 = pipe.score(X_train, y_train)\n",
    "feat_mat = pipe.named_steps.selector.feature_matrix"
   ]
  },
  {
   "cell_type": "markdown",
   "metadata": {},
   "source": [
    "evaluation:"
   ]
  },
  {
   "cell_type": "code",
   "execution_count": 27,
   "metadata": {},
   "outputs": [
    {
     "name": "stdout",
     "output_type": "stream",
     "text": [
      "25Nov16:17 RMSE639.16 STDEV35021 R20.61\n"
     ]
    }
   ],
   "source": [
    "output = cross_validate(pipe, X_train, y_train, cv=5, scoring='neg_mean_squared_error', n_jobs=-1, return_estimator=True)\n",
    "scores = output['test_score']\n",
    "now = datetime.now().strftime('%d%b%H:%M')\n",
    "print('%s RMSE%.2f STDEV%.0f R2%.2f' % (now, np.sqrt(-1 * scores.mean()), scores.std(), r2))"
   ]
  },
  {
   "cell_type": "markdown",
   "metadata": {},
   "source": [
    "notetaking:"
   ]
  },
  {
   "cell_type": "markdown",
   "metadata": {},
   "source": [
    "note down results: <br/>\n",
    "11Nov21:38 RMSE641.08 STDEV33513 R20.56 <p/>\n",
    "12Nov08:48 RMSE636.46 STDEV32812 R20.67 SCORE735.41 PLASS 178 <br/>\n",
    "uten propper_surface_distance, max_depth4 n_estimators200 subsample.8 <p/>\n",
    "12Nov23:14 RMSE634.00 STDEV34333 R20.68 SCORE734.65 fillna(mean) <br/>\n",
    "12Nov23:28 RMSE636.46 STDEV32813 R20.67 fillna(0) <br/>\n",
    "13Nov09:51 RMSE634.18 STDEV34810 R20.67 kmeans50 <br/>\n",
    "13Nov10:03 RMSE634.12 STDEV34909 R20.68 kmeans50Z <br/>\n",
    "13Nov10:09 RMSE633.97 STDEV32702 R20.68 SCORE734.26 kmeans100Z <br/>\n",
    "14Nov08:46 RMSE633.85 STDEV34527 R20.68 kmeans200Z <br/>\n",
    "14Nov08:46 RMSE633.85 STDEV34527 R20.68 kmeans400Z <br/>\n",
    "15Nov10:29 RMSE633.79 STDEV35806 R20.68 hdbscan200Z <br/>\n",
    "15Nov12:57 RMSE633.54 STDEV34831 R20.68 mdt <br/>\n",
    "15Nov13:15 RMSE634.61 STDEV34781 R20.68 mdt uten md <br/>\n",
    "15Nov16:07 RMSE635.20 STDEV35803 R20.67 med md igjen og med pxt,pyt,dxt,dyt,ut,vt og mdt så klart <br/>\n",
    "15Nov16:16 RMSE633.54 STDEV34831 R20.68 uten pxt,pyt,dxt,dyt,ut,vt <br/>\n",
    "15Nov16:21 RMSE634.16 STDEV34361 R20.68 clustering basert på pxt,pyt,dxt,dyt <br/>\n",
    "15Nov16:27 RMSE635.34 STDEV31742 R20.67 clustering med mdt istedenfor Distance <br/>\n",
    "15Nov16:33 RMSE635.25 STDEV33646 R20.68 clustering uten distance <br/>\n",
    "15Nov16:45 RMSE634.78 STDEV34901 R20.68 med p_cluster <br/>\n",
    "15Nov17:11 RMSE627.89 STDEV34702 R20.65 cleaned <br/>\n",
    "15Nov20:42 RMSE626.07 STDEV36766 R20.66 fjernet ors_duration <br/>\n",
    "15Nov21:00 RMSE628 fjernet descent og ascent <br/>\n",
    "15Nov21:53 RMSE627.22 STDEV36659 R20.66 fjernet kun dscent descent <br/>\n",
    "15Nov21:58 RMSE627.15 STDEV37390 R20.66 ohne rs_distance <br/>\n",
    "15Nov22:05 RMSE627.43 STDEV36845 R20.66 uten ascent <br/>\n",
    "15Nov22:17 RMSE625.55 STDEV36764 R20.66 med pxt,pyt,dxt,dyt,ut,vt <br/>\n",
    "15Nov22:25 RMSE626.54 STDEV34391 R20.66 uten ut <br/>\n",
    "15Nov22:51 RMSE627.33 STDEV34139 R20.66 med avg <br/>\n",
    "15Nov23:02 RMSE626.56 STDEV36442 R20.66 uten concrete_distance <br/>\n",
    "15Nov23:14 RMSE626.26 STDEV34927 R20.66 uten px<br/>\n",
    "16Nov00:30 RMSE626.84 STDEV33011 R20.66 ...<br/>\n",
    "17Nov22:47 RMSE626.31 STDEV34985 R20.66 t p d clusters <br/>\n",
    "18Nov09:00 RMSE626.11 STDEV34340 R20.66 uten ors_distance <br/>\n",
    "11Nov21:38 RMSE641.08 STDEV33513 R20.56 med ors_duration igjen <br/>\n",
    "18Nov10:12 RMSE626.31 STDEV34985 R20.66 med ors_distance igjen <br/>\n",
    "18Nov11:36 RMSE626.12 STDEV34469 R20.66 med ors_speed <br/>\n",
    "18Nov12:15 RMSE625.95 STDEV33100 R20.66 med avg_tt_pr_d_cluster <br/>\n",
    "18Nov14:12 RMSE626.29 STDEV33325 R20.66 uten asphalt_distance <br/>\n",
    "18Nov14:27 RMSE625.11 STDEV33814 R20.66 outlier beholder sitt ø <br/>\n",
    "18Nov14:41 RMSE625.08 STDEV33356 R20.66 uten destinationId <br/>\n",
    "18Nov14:47 RMSE616.01 STDEV36723 R20.67 med avg_tt_pr_d_cluster og avg_tt_pr_p_cluster <br/>\n",
    "21Nov14:59 RMSE678.84 STDEV26551 R20.50 ta i bruk pipeline <br/>\n",
    "21Nov23:05 RMSE678.55 STDEV27681 R20.50 uten dxt <br/>\n",
    "22Nov09:27 RMSE680.91 STDEV26371 R20.50 uten py <br/>\n",
    "22Nov18:45 RMSE680.56 STDEV30711 R20.50 uten pxt <br/>\n",
    "22Nov19:02 RMSE680.31 STDEV29030 R20.49 uten rotater <br/>\n",
    "22Nov19:19 RMSE679.48 STDEV28573 R20.49 uten asphalt_distance <br/>\n",
    "22Nov19:26 RMSE680.12 STDEV28578 R20.51 med rotater igjen <br/> \n",
    "22Nov20:05 RMSE680.87 STDEV27866 R20.50 uten md <br/>\n",
    "22Nov20:12 RMSE680.91 STDEV28915 R20.50 uten rotater med px <br/>\n",
    "22Nov20:19 RMSE679.93 STDEV30616 R20.50 uten rotater uten px uten py <br/>\n",
    "22Nov21:06 RMSE679.00 STDEV32060 R20.49 med std_tt_pr_t_cluster <br/>\n",
    "22Nov21:20 RMSE678.33 STDEV30371 R20.49 median istedenfor mean <br/>\n",
    "22Nov21:28 RMSE677.42 STDEV31235 R20.50 d- median <br/>\n",
    "22Nov21:36 RMSE676.45 STDEV31290 R20.51 p- median <br/>\n",
    "22Nov21:44 RMSE675.99 STDEV31586 R20.50 uten ors_steepness <br/>\n",
    "22Nov22:13 RMSE676.01 STDEV30605 R20.50 uten no_waypoints <br/>\n",
    "22Nov22:28 RMSE676.88 STDEV29137 R20.50 med temp_cluster <br/>\n",
    "22Nov22:46 RMSE673.75 STDEV30523 R20.49 med PickupH istedenfor PickupTime <br/>\n",
    "22Nov23:01 RMSE673.45 STDEV30983 R20.49 dropped steddev_travelTime_uw <br/>\n",
    "22Nov23:19 RMSE666.19 STDEV29633 R20.49 med_tt_pr_temp_cluster <br/>\n",
    "22Nov23:28 RMSE667.76 STDEV27444 R20.50 SCORE751.0 uten PickupWd <br/>\n",
    "24Nov19:58 RMSE670.04 STDEV29844 R20.49 SCORE753.7 mean_dist <br/>\n",
    "24Nov21:02 RMSE651.80 STDEV35941 R20.59 SCORE746.11 uten agg <br/>\n",
    "24Nov21:26 RMSE670.71 STDEV30638 R20.53 kun med_tt_pr_t_cluster <br/>\n",
    "24Nov21:58 RMSE654.25 STDEV34119 R20.58 med agg mean_travelTime_uw <br/>\n",
    "24Nov22:16 RMSE650.70 STDEV38187 R20.59 SCORE746.11 uten p_clusterer <br/>\n",
    "24Nov22:45 RMSE648.70 STDEV34718 R20.59 SCORE746.09 uten PickupDom <br/>\n",
    "24Nov23:10 RMSE651.97 STDEV33001 R20.59 uten street_dist <br/>\n",
    "24Nov23:18 RMSE641.63 STDEV34012 R20.61 uten d_cluster <br/>\n",
    "25Nov09:18 RMSE639.54 STDEV32367 R20.61 SCORE742.687210654169 <br/>\n",
    "25Nov11:33 RMSE641.57 STDEV32877 R20.60 uten PickupTime <br/>\n",
    "25Nov16:17 RMSE639.16 STDEV35021 R20.61 uten PickupTime med med PickupH <br/>\n"
   ]
  },
  {
   "cell_type": "markdown",
   "metadata": {},
   "source": [
    "feature importance:"
   ]
  },
  {
   "cell_type": "code",
   "execution_count": 12,
   "metadata": {
    "scrolled": false
   },
   "outputs": [],
   "source": [
    "# Correlasjon\n",
    "corr = feat_mat.corr()\n",
    "arr = corr.values\n",
    "np.fill_diagonal(arr, None)\n",
    "corr = pd.DataFrame(arr, columns=corr.columns, index=corr.index)\n",
    "abs_corr = abs(corr)\n",
    "max_corr_cols = abs_corr.idxmax(axis=1)\n",
    "max_corr_cols.name = 'feat2'\n",
    "max_corr = abs_corr.max(axis=1)\n",
    "max_corr.name = 'cor'\n",
    "corr_df = pd.concat([max_corr, max_corr_cols], axis=1).reset_index()\n",
    "corr_df.set_index('index', inplace=True)\n",
    "corr_df.index.name='feature'\n",
    "corr_df.sort_values('cor', ascending=False, inplace=True)"
   ]
  },
  {
   "cell_type": "code",
   "execution_count": 13,
   "metadata": {},
   "outputs": [],
   "source": [
    "# Feature importance\n",
    "fi = [p.named_steps.estimator.feature_importances_ for p in output['estimator']]\n",
    "fia = np.array(fi).T\n",
    "mean_feat_imp = fia.mean(axis=1)\n",
    "imp = pd.DataFrame({'feature': feat_mat.columns, 'importance': mean_feat_imp})\n",
    "imp.set_index('feature', drop=True, inplace=True)\n",
    "imp.sort_values(by='importance', ascending=True, inplace=True)"
   ]
  },
  {
   "cell_type": "code",
   "execution_count": 14,
   "metadata": {
    "scrolled": false
   },
   "outputs": [
    {
     "data": {
      "text/html": [
       "<div>\n",
       "<style scoped>\n",
       "    .dataframe tbody tr th:only-of-type {\n",
       "        vertical-align: middle;\n",
       "    }\n",
       "\n",
       "    .dataframe tbody tr th {\n",
       "        vertical-align: top;\n",
       "    }\n",
       "\n",
       "    .dataframe thead th {\n",
       "        text-align: right;\n",
       "    }\n",
       "</style>\n",
       "<table border=\"1\" class=\"dataframe\">\n",
       "  <thead>\n",
       "    <tr style=\"text-align: right;\">\n",
       "      <th></th>\n",
       "      <th>importance</th>\n",
       "      <th>correlation</th>\n",
       "      <th>feat2</th>\n",
       "    </tr>\n",
       "    <tr>\n",
       "      <th>feature</th>\n",
       "      <th></th>\n",
       "      <th></th>\n",
       "      <th></th>\n",
       "    </tr>\n",
       "  </thead>\n",
       "  <tbody>\n",
       "    <tr>\n",
       "      <td>OrderNo</td>\n",
       "      <td>0.010440</td>\n",
       "      <td>0.04</td>\n",
       "      <td>No_Of_Orders</td>\n",
       "    </tr>\n",
       "    <tr>\n",
       "      <td>ors_ascent</td>\n",
       "      <td>0.010870</td>\n",
       "      <td>0.57</td>\n",
       "      <td>Distance</td>\n",
       "    </tr>\n",
       "    <tr>\n",
       "      <td>ors_descent</td>\n",
       "      <td>0.011008</td>\n",
       "      <td>0.49</td>\n",
       "      <td>stateroad_dist</td>\n",
       "    </tr>\n",
       "    <tr>\n",
       "      <td>PickupTime</td>\n",
       "      <td>0.011270</td>\n",
       "      <td>0.65</td>\n",
       "      <td>temp_cluster</td>\n",
       "    </tr>\n",
       "    <tr>\n",
       "      <td>u</td>\n",
       "      <td>0.011707</td>\n",
       "      <td>0.43</td>\n",
       "      <td>ors_ascent</td>\n",
       "    </tr>\n",
       "    <tr>\n",
       "      <td>paved_distance</td>\n",
       "      <td>0.011814</td>\n",
       "      <td>0.43</td>\n",
       "      <td>ors_descent</td>\n",
       "    </tr>\n",
       "    <tr>\n",
       "      <td>distance_odeon</td>\n",
       "      <td>0.012058</td>\n",
       "      <td>0.37</td>\n",
       "      <td>Distance</td>\n",
       "    </tr>\n",
       "    <tr>\n",
       "      <td>UserId</td>\n",
       "      <td>0.012158</td>\n",
       "      <td>0.31</td>\n",
       "      <td>pickupId</td>\n",
       "    </tr>\n",
       "    <tr>\n",
       "      <td>Temperature</td>\n",
       "      <td>0.012553</td>\n",
       "      <td>0.30</td>\n",
       "      <td>PickupTime</td>\n",
       "    </tr>\n",
       "    <tr>\n",
       "      <td>temp_cluster</td>\n",
       "      <td>0.012669</td>\n",
       "      <td>0.65</td>\n",
       "      <td>PickupTime</td>\n",
       "    </tr>\n",
       "    <tr>\n",
       "      <td>pavingStones_distance</td>\n",
       "      <td>0.013582</td>\n",
       "      <td>0.20</td>\n",
       "      <td>street_dist</td>\n",
       "    </tr>\n",
       "    <tr>\n",
       "      <td>RiderId</td>\n",
       "      <td>0.013912</td>\n",
       "      <td>0.06</td>\n",
       "      <td>Average_Rating</td>\n",
       "    </tr>\n",
       "    <tr>\n",
       "      <td>street_dist</td>\n",
       "      <td>0.014126</td>\n",
       "      <td>0.34</td>\n",
       "      <td>ors_speed</td>\n",
       "    </tr>\n",
       "    <tr>\n",
       "      <td>Precipitation</td>\n",
       "      <td>0.014128</td>\n",
       "      <td>0.13</td>\n",
       "      <td>Temperature</td>\n",
       "    </tr>\n",
       "    <tr>\n",
       "      <td>ors_speed</td>\n",
       "      <td>0.015291</td>\n",
       "      <td>0.69</td>\n",
       "      <td>stateroad_dist</td>\n",
       "    </tr>\n",
       "    <tr>\n",
       "      <td>Age</td>\n",
       "      <td>0.015344</td>\n",
       "      <td>0.71</td>\n",
       "      <td>No_Of_Orders</td>\n",
       "    </tr>\n",
       "    <tr>\n",
       "      <td>t_cluster</td>\n",
       "      <td>0.015637</td>\n",
       "      <td>0.53</td>\n",
       "      <td>Distance</td>\n",
       "    </tr>\n",
       "    <tr>\n",
       "      <td>pickupId</td>\n",
       "      <td>0.015748</td>\n",
       "      <td>0.32</td>\n",
       "      <td>u</td>\n",
       "    </tr>\n",
       "    <tr>\n",
       "      <td>No_Of_Orders</td>\n",
       "      <td>0.016039</td>\n",
       "      <td>0.79</td>\n",
       "      <td>No_of_Ratings</td>\n",
       "    </tr>\n",
       "    <tr>\n",
       "      <td>No_of_Ratings</td>\n",
       "      <td>0.016898</td>\n",
       "      <td>0.79</td>\n",
       "      <td>No_Of_Orders</td>\n",
       "    </tr>\n",
       "    <tr>\n",
       "      <td>road_dist</td>\n",
       "      <td>0.016972</td>\n",
       "      <td>0.57</td>\n",
       "      <td>ors_ascent</td>\n",
       "    </tr>\n",
       "    <tr>\n",
       "      <td>no_steps</td>\n",
       "      <td>0.017465</td>\n",
       "      <td>0.44</td>\n",
       "      <td>ors_descent</td>\n",
       "    </tr>\n",
       "    <tr>\n",
       "      <td>gravel_distance</td>\n",
       "      <td>0.018725</td>\n",
       "      <td>0.09</td>\n",
       "      <td>pickupId</td>\n",
       "    </tr>\n",
       "    <tr>\n",
       "      <td>Average_Rating</td>\n",
       "      <td>0.020535</td>\n",
       "      <td>0.08</td>\n",
       "      <td>Age</td>\n",
       "    </tr>\n",
       "    <tr>\n",
       "      <td>v</td>\n",
       "      <td>0.022334</td>\n",
       "      <td>0.32</td>\n",
       "      <td>pickupId</td>\n",
       "    </tr>\n",
       "    <tr>\n",
       "      <td>stateroad_dist</td>\n",
       "      <td>0.022486</td>\n",
       "      <td>0.69</td>\n",
       "      <td>ors_speed</td>\n",
       "    </tr>\n",
       "    <tr>\n",
       "      <td>PrepTime</td>\n",
       "      <td>0.025594</td>\n",
       "      <td>0.27</td>\n",
       "      <td>PickupTime</td>\n",
       "    </tr>\n",
       "    <tr>\n",
       "      <td>mean_travelTime_uw</td>\n",
       "      <td>0.076314</td>\n",
       "      <td>0.81</td>\n",
       "      <td>Distance</td>\n",
       "    </tr>\n",
       "    <tr>\n",
       "      <td>md</td>\n",
       "      <td>0.167391</td>\n",
       "      <td>0.93</td>\n",
       "      <td>Distance</td>\n",
       "    </tr>\n",
       "    <tr>\n",
       "      <td>Distance</td>\n",
       "      <td>0.344933</td>\n",
       "      <td>0.93</td>\n",
       "      <td>md</td>\n",
       "    </tr>\n",
       "  </tbody>\n",
       "</table>\n",
       "</div>"
      ],
      "text/plain": [
       "                       importance  correlation           feat2\n",
       "feature                                                       \n",
       "OrderNo                  0.010440         0.04    No_Of_Orders\n",
       "ors_ascent               0.010870         0.57        Distance\n",
       "ors_descent              0.011008         0.49  stateroad_dist\n",
       "PickupTime               0.011270         0.65    temp_cluster\n",
       "u                        0.011707         0.43      ors_ascent\n",
       "paved_distance           0.011814         0.43     ors_descent\n",
       "distance_odeon           0.012058         0.37        Distance\n",
       "UserId                   0.012158         0.31        pickupId\n",
       "Temperature              0.012553         0.30      PickupTime\n",
       "temp_cluster             0.012669         0.65      PickupTime\n",
       "pavingStones_distance    0.013582         0.20     street_dist\n",
       "RiderId                  0.013912         0.06  Average_Rating\n",
       "street_dist              0.014126         0.34       ors_speed\n",
       "Precipitation            0.014128         0.13     Temperature\n",
       "ors_speed                0.015291         0.69  stateroad_dist\n",
       "Age                      0.015344         0.71    No_Of_Orders\n",
       "t_cluster                0.015637         0.53        Distance\n",
       "pickupId                 0.015748         0.32               u\n",
       "No_Of_Orders             0.016039         0.79   No_of_Ratings\n",
       "No_of_Ratings            0.016898         0.79    No_Of_Orders\n",
       "road_dist                0.016972         0.57      ors_ascent\n",
       "no_steps                 0.017465         0.44     ors_descent\n",
       "gravel_distance          0.018725         0.09        pickupId\n",
       "Average_Rating           0.020535         0.08             Age\n",
       "v                        0.022334         0.32        pickupId\n",
       "stateroad_dist           0.022486         0.69       ors_speed\n",
       "PrepTime                 0.025594         0.27      PickupTime\n",
       "mean_travelTime_uw       0.076314         0.81        Distance\n",
       "md                       0.167391         0.93        Distance\n",
       "Distance                 0.344933         0.93              md"
      ]
     },
     "execution_count": 14,
     "metadata": {},
     "output_type": "execute_result"
    },
    {
     "data": {
      "text/plain": [
       "<matplotlib.axes._subplots.AxesSubplot at 0x7fc7d16c7a58>"
      ]
     },
     "execution_count": 14,
     "metadata": {},
     "output_type": "execute_result"
    },
    {
     "data": {
      "image/png": "[encoded data removed]",
      "text/plain": [
       "<Figure size 1080x1080 with 1 Axes>"
      ]
     },
     "metadata": {
      "needs_background": "light"
     },
     "output_type": "display_data"
    }
   ],
   "source": [
    "# Merged\n",
    "m = pd.merge(imp, corr_df, left_index=True, right_index=True).sort_values('importance')\n",
    "m['correlation'] = m.cor.round(2)\n",
    "m['oneMinusCor'] = -(1 - m.cor)/4\n",
    "m[['importance', 'correlation', 'feat2']]\n",
    "m.plot(kind='barh', y=['importance', 'oneMinusCor'], secondary_y=False, legend=False, grid=True, figsize=[15, 15])"
   ]
  },
  {
   "cell_type": "code",
   "execution_count": null,
   "metadata": {},
   "outputs": [],
   "source": [
    "#imp.loc[['v', 'px', 'u', 'py', 'vt', 'pxt', 'ut', 'pyt', 'md', 'mdt']].sort_values('importance', ascending=False)"
   ]
  },
  {
   "cell_type": "markdown",
   "metadata": {},
   "source": [
    "hyperparamter tuning"
   ]
  },
  {
   "cell_type": "code",
   "execution_count": null,
   "metadata": {},
   "outputs": [],
   "source": [
    "param_grid = {\n",
    "    'estimator__subsample': [0.8, 0.9],\n",
    "}\n",
    "grid = GridSearchCV(pipe, param_grid, scoring='neg_mean_squared_error', n_jobs=-1, verbose=1)\n",
    "grid.fit(X_train, y_train)\n",
    "print ('Best RMSE %.8f' % sqrt(-1 * grid.best_score_))\n",
    "print ('Best paramter combination', grid.best_params_)"
   ]
  },
  {
   "cell_type": "markdown",
   "metadata": {},
   "source": [
    "Best RMSE 633.81396762\n",
    "Best paramter combination {'learning_rate': 0.1, 'max_depth': 4, 'min_child_weight': 1.0, 'n_estimators': 200, 'subsample': 0.8}\n",
    "\n",
    "---\n",
    "Best RMSE 633.81396762\n",
    "Best paramter combination {'max_depth': 4, 'n_estimators': 200, 'subsample': 0.8}"
   ]
  },
  {
   "cell_type": "markdown",
   "metadata": {},
   "source": [
    "feature elimination"
   ]
  },
  {
   "cell_type": "code",
   "execution_count": null,
   "metadata": {},
   "outputs": [],
   "source": [
    "no_features = feat_mat.shape[1]\n",
    "feat_to_remove = 2\n",
    "print((no_features, feat_to_remove))\n",
    "\n",
    "model = pipe.named_steps.estimator\n",
    "\n",
    "no_features = feat_mat.shape[1]\n",
    "feat_to_remove = 2\n",
    "print((no_features, feat_to_remove))\n",
    "\n",
    "ref_params = {\n",
    "    'min_features_to_select': no_features - feat_to_remove,\n",
    "    'cv': 5, \n",
    "    #'scoring': 'neg_mean_squared_error',\n",
    "    'verbose': 2,\n",
    "    'n_jobs': -1, \n",
    "}\n",
    "rfe = RFECV(model, **ref_params)\n",
    "rfe = rfe.fit(feat_mat, y_train)\n",
    "\n",
    "print('RFE support:')\n",
    "rfe.support_\n",
    "\n",
    "print('RFE ranking:')\n",
    "rfe.ranking_"
   ]
  },
  {
   "cell_type": "markdown",
   "metadata": {},
   "source": [
    "plotting av cluster på kart:"
   ]
  },
  {
   "cell_type": "code",
   "execution_count": null,
   "metadata": {},
   "outputs": [],
   "source": [
    "#fig = plt.figure(figsize = [12, 8])\n",
    "#plt.scatter(x='PickupLong', y='PickupLat', alpha=1, c='p_cluster', data=train.sample(5000), norm=plt.Normalize(vmin=0, vmax=p_clusterer.labels_.max()) ,cmap=plt.cm.Spectral)\n",
    "#mplleaflet.display()"
   ]
  },
  {
   "cell_type": "markdown",
   "metadata": {},
   "source": [
    "other things:"
   ]
  },
  {
   "cell_type": "code",
   "execution_count": null,
   "metadata": {},
   "outputs": [],
   "source": [
    "#from sklearn.inspection import partial_dependence\n",
    "#partial_dependence(model, X_train, [0])"
   ]
  },
  {
   "cell_type": "code",
   "execution_count": null,
   "metadata": {},
   "outputs": [],
   "source": [
    "#condition numbers\n",
    "#https://towardsdatascience.com/feature-selection-why-how-explained-part-1-c2f638d24cdb"
   ]
  },
  {
   "cell_type": "markdown",
   "metadata": {},
   "source": [
    "submiting:"
   ]
  },
  {
   "cell_type": "code",
   "execution_count": 100,
   "metadata": {},
   "outputs": [
    {
     "data": {
      "text/plain": [
       "array(['Age', 'Average_Rating', 'Distance', 'No_Of_Orders',\n",
       "       'No_of_Ratings', 'OrderNo', 'PickupTime', 'Precipitation',\n",
       "       'PrepTime', 'RiderId', 'Temperature', 'UserId', 'distance_odeon',\n",
       "       'gravel_distance', 'md', 'mean_travelTime_uw', 'no_steps',\n",
       "       'ors_ascent', 'ors_descent', 'ors_speed', 'paved_distance',\n",
       "       'pavingStones_distance', 'pickupId', 'road_dist', 'stateroad_dist',\n",
       "       'street_dist', 'u', 'v', 't_cluster', 'temp_cluster'], dtype=object)"
      ]
     },
     "execution_count": 100,
     "metadata": {},
     "output_type": "execute_result"
    },
    {
     "data": {
      "text/plain": [
       "True"
      ]
     },
     "execution_count": 100,
     "metadata": {},
     "output_type": "execute_result"
    }
   ],
   "source": [
    "feat_mat.columns.values\n",
    "X_train.columns.values.tolist() == X_test.columns.values.tolist()"
   ]
  },
  {
   "cell_type": "code",
   "execution_count": 15,
   "metadata": {},
   "outputs": [
    {
     "data": {
      "text/html": [
       "<div>\n",
       "<style scoped>\n",
       "    .dataframe tbody tr th:only-of-type {\n",
       "        vertical-align: middle;\n",
       "    }\n",
       "\n",
       "    .dataframe tbody tr th {\n",
       "        vertical-align: top;\n",
       "    }\n",
       "\n",
       "    .dataframe thead th {\n",
       "        text-align: right;\n",
       "    }\n",
       "</style>\n",
       "<table border=\"1\" class=\"dataframe\">\n",
       "  <thead>\n",
       "    <tr style=\"text-align: right;\">\n",
       "      <th></th>\n",
       "      <th>Order_No</th>\n",
       "      <th>Time from Pickup to Arrival</th>\n",
       "    </tr>\n",
       "  </thead>\n",
       "  <tbody>\n",
       "    <tr>\n",
       "      <td>0</td>\n",
       "      <td>Order_No_19248</td>\n",
       "      <td>1442</td>\n",
       "    </tr>\n",
       "    <tr>\n",
       "      <td>1</td>\n",
       "      <td>Order_No_19248</td>\n",
       "      <td>1470</td>\n",
       "    </tr>\n",
       "    <tr>\n",
       "      <td>2</td>\n",
       "      <td>Order_No_12736</td>\n",
       "      <td>1251</td>\n",
       "    </tr>\n",
       "    <tr>\n",
       "      <td>3</td>\n",
       "      <td>Order_No_768</td>\n",
       "      <td>1608</td>\n",
       "    </tr>\n",
       "    <tr>\n",
       "      <td>4</td>\n",
       "      <td>Order_No_768</td>\n",
       "      <td>1608</td>\n",
       "    </tr>\n",
       "    <tr>\n",
       "      <td>...</td>\n",
       "      <td>...</td>\n",
       "      <td>...</td>\n",
       "    </tr>\n",
       "    <tr>\n",
       "      <td>55674</td>\n",
       "      <td>Order_No_1969</td>\n",
       "      <td>1667</td>\n",
       "    </tr>\n",
       "    <tr>\n",
       "      <td>55675</td>\n",
       "      <td>Order_No_10591</td>\n",
       "      <td>2516</td>\n",
       "    </tr>\n",
       "    <tr>\n",
       "      <td>55676</td>\n",
       "      <td>Order_No_1603</td>\n",
       "      <td>1868</td>\n",
       "    </tr>\n",
       "    <tr>\n",
       "      <td>55677</td>\n",
       "      <td>Order_No_1603</td>\n",
       "      <td>1868</td>\n",
       "    </tr>\n",
       "    <tr>\n",
       "      <td>55678</td>\n",
       "      <td>Order_No_1603</td>\n",
       "      <td>1868</td>\n",
       "    </tr>\n",
       "  </tbody>\n",
       "</table>\n",
       "<p>55679 rows × 2 columns</p>\n",
       "</div>"
      ],
      "text/plain": [
       "             Order_No  Time from Pickup to Arrival\n",
       "0      Order_No_19248                         1442\n",
       "1      Order_No_19248                         1470\n",
       "2      Order_No_12736                         1251\n",
       "3        Order_No_768                         1608\n",
       "4        Order_No_768                         1608\n",
       "...               ...                          ...\n",
       "55674   Order_No_1969                         1667\n",
       "55675  Order_No_10591                         2516\n",
       "55676   Order_No_1603                         1868\n",
       "55677   Order_No_1603                         1868\n",
       "55678   Order_No_1603                         1868\n",
       "\n",
       "[55679 rows x 2 columns]"
      ]
     },
     "execution_count": 15,
     "metadata": {},
     "output_type": "execute_result"
    },
    {
     "name": "stdout",
     "output_type": "stream",
     "text": [
      "File submission_11250919.csv saved.\n"
     ]
    }
   ],
   "source": [
    "orderNo = 'Order_No_' + X_test.OrderNo.astype(str)\n",
    "y_test = pipe.predict(X_test)\n",
    "time_from_pickup_to_arrival = y_test.round(0).astype(int)\n",
    "submit = pd.DataFrame(zip(orderNo, time_from_pickup_to_arrival), columns=['Order_No', 'Time from Pickup to Arrival'])\n",
    "submit\n",
    "now = datetime.now().strftime('_%m%d%H%M')\n",
    "submit.to_csv(path_or_buf=f'submission{now}.csv', index=False)\n",
    "print(f'File submission{now}.csv saved.')"
   ]
  },
  {
   "cell_type": "code",
   "execution_count": null,
   "metadata": {},
   "outputs": [],
   "source": []
  }
 ],
 "metadata": {
  "kernelspec": {
   "display_name": "Python 3",
   "language": "python",
   "name": "python3"
  },
  "language_info": {
   "codemirror_mode": {
    "name": "ipython",
    "version": 3
   },
   "file_extension": ".py",
   "mimetype": "text/x-python",
   "name": "python",
   "nbconvert_exporter": "python",
   "pygments_lexer": "ipython3",
   "version": "3.6.9"
  },
  "nteract": {
   "version": "0.15.0"
  }
 },
 "nbformat": 4,
 "nbformat_minor": 2
}
